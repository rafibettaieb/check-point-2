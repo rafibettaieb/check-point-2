{
 "cells": [
  {
   "cell_type": "markdown",
   "id": "1f94c548",
   "metadata": {},
   "source": [
    "question N1 :"
   ]
  },
  {
   "cell_type": "code",
   "execution_count": 1,
   "id": "f965672e",
   "metadata": {},
   "outputs": [
    {
     "name": "stdout",
     "output_type": "stream",
     "text": [
      "number of items in the liste4\n",
      "6\n",
      "5\n",
      "2\n",
      "2\n",
      "[6, 5, 2, 2]\n",
      "120\n"
     ]
    }
   ],
   "source": [
    "liste=[]\n",
    "val=1\n",
    "n=int(input(\"number of items in the liste\"))\n",
    "for i in range (n):\n",
    "    item=int(input())\n",
    "    liste.append(item)\n",
    "print(liste)\n",
    "for x in liste :\n",
    "    val=val*(x)\n",
    "print(val)"
   ]
  },
  {
   "cell_type": "markdown",
   "id": "16cd7e21",
   "metadata": {},
   "source": [
    "question N2 :"
   ]
  },
  {
   "cell_type": "code",
   "execution_count": 23,
   "id": "27df43fa",
   "metadata": {},
   "outputs": [
    {
     "name": "stdout",
     "output_type": "stream",
     "text": [
      "Sorted list: [(1, 1), (2, 1), (1, 2), (2, 3), (4, 4)]\n"
     ]
    }
   ],
   "source": [
    "def Second_element(element):\n",
    "    return element[1]\n",
    "liste = [(2, 5), (1, 2), (4, 4), (2, 3), (2, 1)]\n",
    "liste.sort(key=Second_element)\n",
    "print('Sorted list:', liste)"
   ]
  },
  {
   "cell_type": "markdown",
   "id": "56585fab",
   "metadata": {},
   "source": [
    "question N3 :"
   ]
  },
  {
   "cell_type": "code",
   "execution_count": 3,
   "id": "837f5461",
   "metadata": {},
   "outputs": [
    {
     "name": "stdout",
     "output_type": "stream",
     "text": [
      "{'a': 400, 'b': 400, 'd': 400, 'c': 300}\n"
     ]
    }
   ],
   "source": [
    "d1={'a': 100, 'b': 200, 'c':300}\n",
    "d2 = {'a': 300, 'b': 200, 'd':400}\n",
    "for key in d1 :\n",
    "    if key in d2:\n",
    "        d2[key]=d2[key]+d1[key]\n",
    "    else :\n",
    "        d2[key]=d1[key]\n",
    "print(d2)        "
   ]
  },
  {
   "cell_type": "markdown",
   "id": "e086fbe9",
   "metadata": {},
   "source": [
    "question N4 :"
   ]
  },
  {
   "cell_type": "code",
   "execution_count": 43,
   "id": "8264d9dc",
   "metadata": {},
   "outputs": [
    {
     "name": "stdout",
     "output_type": "stream",
     "text": [
      "num=8\n",
      "{1: 1, 2: 4, 3: 9, 4: 16, 5: 25, 6: 36, 7: 49, 8: 64}\n"
     ]
    }
   ],
   "source": [
    "num=int(input(\"num=\"))\n",
    "dic={i:i*i for i in range(1,num+1)}\n",
    "print(dic)\n",
    "    "
   ]
  },
  {
   "cell_type": "markdown",
   "id": "caabfd68",
   "metadata": {},
   "source": [
    "question N5 :"
   ]
  },
  {
   "cell_type": "code",
   "execution_count": 35,
   "id": "22336f2b",
   "metadata": {},
   "outputs": [
    {
     "name": "stdout",
     "output_type": "stream",
     "text": [
      "[('item3', '24.5'), ('item2', '15.10'), ('item1', '12.20')]\n"
     ]
    }
   ],
   "source": [
    "def Second_element(element):\n",
    "    return element[1]\n",
    "liste= [('item1', '12.20'), ('item2', '15.10'), ('item3', '24.5')]\n",
    "liste.sort(key = Second_element,reverse= True)\n",
    "print(liste)"
   ]
  }
 ],
 "metadata": {
  "kernelspec": {
   "display_name": "Python 3",
   "language": "python",
   "name": "python3"
  },
  "language_info": {
   "codemirror_mode": {
    "name": "ipython",
    "version": 3
   },
   "file_extension": ".py",
   "mimetype": "text/x-python",
   "name": "python",
   "nbconvert_exporter": "python",
   "pygments_lexer": "ipython3",
   "version": "3.8.8"
  }
 },
 "nbformat": 4,
 "nbformat_minor": 5
}
